{
 "cells": [
  {
   "cell_type": "markdown",
   "id": "9ea9b5e2-37af-4db4-b57c-fd02c8acbb96",
   "metadata": {},
   "source": [
    "# __Trabalhar com Datasets 2__"
   ]
  },
  {
   "cell_type": "markdown",
   "id": "6441902f-668f-4016-8272-3e7b0fae217c",
   "metadata": {},
   "source": [
    "## __TPC 8__"
   ]
  },
  {
   "cell_type": "markdown",
   "id": "45d4e07b-2d14-4aa9-acba-b61e507b1351",
   "metadata": {},
   "source": [
    "___"
   ]
  },
  {
   "cell_type": "markdown",
   "id": "0739f453-438f-4c69-b38a-0b29212c6786",
   "metadata": {},
   "source": [
    "__Data de início:__ 2021/12/05"
   ]
  },
  {
   "cell_type": "markdown",
   "id": "2503bf74-8b2f-4838-aee0-cc44bba8b880",
   "metadata": {},
   "source": [
    "__Data de fim:__ 2021/12/05"
   ]
  },
  {
   "cell_type": "markdown",
   "id": "efbd8d18-3a72-42a9-b164-59d12057322f",
   "metadata": {},
   "source": [
    "__Supervisor:__ José Carlos Ramalho"
   ]
  },
  {
   "cell_type": "markdown",
   "id": "a7561376-5a06-44d9-9cf6-0877ffcd325f",
   "metadata": {},
   "source": [
    "__Autor:__ Luís Pedro Cunha, A94960"
   ]
  },
  {
   "cell_type": "markdown",
   "id": "3e22c073-0e25-4699-8b3e-1ba402b6b2ad",
   "metadata": {},
   "source": [
    "__Resumo:__ Este trabalho teve, mais uma vez, como objetivo a expansão do nosso conhecimento de trabalhar com datasets. Para tal foram criadas funções através do acesso a um dataset (_emd.csv_ neste caso) que são capazes de _organizar a informação_ nele contida, _mostrar dados importantes_ de cada elemento do dataset e _criar gráficos_ onde algumas informações importantes estão explicitadas e organizadas (criadas em aula e terminadas em 2021/12/05). Neste trabalho também foi pedida a criação de uma interface para interagir com o código, coisa que até hoje, 2021/12/06, não foi possível devido a dificuldades técnicas."
   ]
  }
 ],
 "metadata": {
  "kernelspec": {
   "display_name": "Python 3",
   "language": "python",
   "name": "python3"
  },
  "language_info": {
   "codemirror_mode": {
    "name": "ipython",
    "version": 3
   },
   "file_extension": ".py",
   "mimetype": "text/x-python",
   "name": "python",
   "nbconvert_exporter": "python",
   "pygments_lexer": "ipython3",
   "version": "3.8.8"
  }
 },
 "nbformat": 4,
 "nbformat_minor": 5
}
