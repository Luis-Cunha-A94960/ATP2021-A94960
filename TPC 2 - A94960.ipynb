{
 "cells": [
  {
   "cell_type": "code",
   "execution_count": null,
   "id": "ba574a11-de51-4a4c-9bff-2d2a040a6c72",
   "metadata": {},
   "outputs": [
    {
     "name": "stdout",
     "output_type": "stream",
     "text": [
      "Olá sou o Jarvas, e vou tentar adivinhar o número em que pensar.\n",
      "Peço-lhe apenas a sua honestidade.\n"
     ]
    },
    {
     "name": "stdin",
     "output_type": "stream",
     "text": [
      "O número que estava a pensar era 50 certo? (S / N) n\n"
     ]
    },
    {
     "name": "stdout",
     "output_type": "stream",
     "text": [
      "Como é possível?! Eu nunca me engano!!!\n"
     ]
    },
    {
     "name": "stdin",
     "output_type": "stream",
     "text": [
      "O seu número é maior ou menor? (Maior / Menor) maior\n"
     ]
    },
    {
     "name": "stdout",
     "output_type": "stream",
     "text": [
      "[51, 52, 53, 54, 55, 56, 57, 58, 59, 60, 61, 62, 63, 64, 65, 66, 67, 68, 69, 70, 71, 72, 73, 74, 75, 76, 77, 78, 79, 80, 81, 82, 83, 84, 85, 86, 87, 88, 89, 90, 91, 92, 93, 94, 95, 96, 97, 98, 99, 100]\n"
     ]
    },
    {
     "name": "stdin",
     "output_type": "stream",
     "text": [
      "O número que estava a pensar era 75 certo? (S / N) n\n"
     ]
    },
    {
     "name": "stdout",
     "output_type": "stream",
     "text": [
      "Como é possível?! Eu nunca me engano!!!\n"
     ]
    },
    {
     "name": "stdin",
     "output_type": "stream",
     "text": [
      "O seu número é maior ou menor? (Maior / Menor) maior\n"
     ]
    },
    {
     "name": "stdout",
     "output_type": "stream",
     "text": [
      "[76, 77, 78, 79, 80, 81, 82, 83, 84, 85, 86, 87, 88, 89, 90, 91, 92, 93, 94, 95, 96, 97, 98, 99, 100]\n"
     ]
    }
   ],
   "source": [
    "def proc_bin1(array):\n",
    "    opcao = len(array) % 2\n",
    "    if (opcao == 0):\n",
    "        index = len(array)/2 - 1\n",
    "    else:\n",
    "        index = len(array)/2 - (1/2)\n",
    "    return index\n",
    "\n",
    "def proc_bin2(index, array, superior):\n",
    "    if (superior == True):\n",
    "        i = array[0]\n",
    "        while (i <= index):\n",
    "            array.remove(i)\n",
    "            i+=1\n",
    "    else:\n",
    "        i = index\n",
    "        fim = len(array) - 1\n",
    "        while (i <= fim):\n",
    "            array.remove(i)\n",
    "            i+=1\n",
    "    return array\n",
    "\n",
    "i = 0\n",
    "num_poss = []\n",
    "while (i <= 100):\n",
    "    num_poss.append(i)\n",
    "    i += 1\n",
    "\n",
    "print (\"\"\"Olá sou o Jarvas, e vou tentar adivinhar o número em que pensar.\n",
    "Peço-lhe apenas a sua honestidade.\"\"\")\n",
    "\n",
    "cicle = 1\n",
    "encontrado = False\n",
    "while (encontrado == False and cicle <= 7):\n",
    "    num = int(proc_bin1(num_poss))\n",
    "    resposta1 = input(\"O número que estava a pensar era \" + str(num_poss[num]) + \" certo? (S / N)\")\n",
    "    while (resposta1.lower() != \"s\" and resposta1.lower() != \"n\"):\n",
    "        print (\"Responda de maneira séria, por favor!\")\n",
    "        resposta1 = input(\"O número que estava a pensar era \" + str(num_poss[num]) + \" certo? (S / N)\")\n",
    "    cicle += 1\n",
    "    if (resposta1.lower() == \"s\"):\n",
    "        print (\"Eu, o grande Jarvas, sempre soube!\")\n",
    "        encontrado = True\n",
    "    elif (resposta1.lower() == \"n\" and cicle <= 7):\n",
    "        print (\"Como é possível?! Eu nunca me engano!!!\")\n",
    "        resposta2=input(\"O seu número é maior ou menor? (Maior / Menor)\")\n",
    "        while (resposta2.lower() != \"maior\" and resposta2.lower() != \"menor\"):\n",
    "            print (\"Responda de maneira séria, por favor!\")\n",
    "            resposta2=input(\"O seu número é maior ou menor? (Maior / Menor)\")\n",
    "        if (resposta2.lower() == \"maior\"):\n",
    "            sup = True\n",
    "            num_poss=proc_bin2(num_poss[num], num_poss, sup)\n",
    "        else:\n",
    "            sup = False\n",
    "            num_poss=proc_bin2(num, num_poss, sup)\n",
    "    print(num_poss)\n",
    "    \n",
    "\n",
    "if (cicle > 7 and encontrado == False):\n",
    "    print(\"Descobri que não foi honesto nas suas respostas!!!\")"
   ]
  },
  {
   "cell_type": "code",
   "execution_count": null,
   "id": "6333033c-e84f-4aee-804a-fa686ab27149",
   "metadata": {},
   "outputs": [],
   "source": []
  }
 ],
 "metadata": {
  "kernelspec": {
   "display_name": "Python 3",
   "language": "python",
   "name": "python3"
  },
  "language_info": {
   "codemirror_mode": {
    "name": "ipython",
    "version": 3
   },
   "file_extension": ".py",
   "mimetype": "text/x-python",
   "name": "python",
   "nbconvert_exporter": "python",
   "pygments_lexer": "ipython3",
   "version": "3.8.8"
  }
 },
 "nbformat": 4,
 "nbformat_minor": 5
}
