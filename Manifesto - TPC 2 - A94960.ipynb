{
 "cells": [
  {
   "cell_type": "markdown",
   "id": "b850ed1f-cd5f-45b5-9047-3e0c844aa4f5",
   "metadata": {},
   "source": [
    "# __Procura Binária__"
   ]
  },
  {
   "cell_type": "markdown",
   "id": "0c941bb1-5cd5-481d-8120-ee6ee9829698",
   "metadata": {},
   "source": [
    "## __TPC 2__"
   ]
  },
  {
   "cell_type": "markdown",
   "id": "e4a2f12e-03b7-4c95-9d34-a27440cf1334",
   "metadata": {},
   "source": [
    "_______________________________"
   ]
  },
  {
   "cell_type": "markdown",
   "id": "c97bf653-b256-4af9-a990-33d8d1ea0cbe",
   "metadata": {},
   "source": [
    "__Data de início:__ 2021/10/16"
   ]
  },
  {
   "cell_type": "markdown",
   "id": "07e6a6d1-e84a-4630-8001-71a7c93a41c9",
   "metadata": {},
   "source": [
    "__Data de fim:__ 2021/10/17"
   ]
  },
  {
   "cell_type": "markdown",
   "id": "45cc4f77-55f7-46d5-8ddd-cae199a61fe9",
   "metadata": {},
   "source": [
    "__Supervisor:__ José Carlos Ramalho"
   ]
  },
  {
   "cell_type": "markdown",
   "id": "d34c9b65-8a02-498f-949b-a96bfa06c11f",
   "metadata": {},
   "source": [
    "__Autor:__ Luís Pedro Cunha, A94960"
   ]
  },
  {
   "cell_type": "markdown",
   "id": "7f65fb87-3208-45f2-bc8c-b7b7bd44408c",
   "metadata": {},
   "source": [
    "__Resumo:__ Neste trabalho, através da língua de programação _Python_, pretendo criar uma amostra de código que: através de _funções_, _ciclos_, _listas_, entre outros, consiga adivinhar um dado número que o usuário pensar, de 0 a 100, através de _procura binária_.  \n",
    "\n",
    "A _procura binária_ funciona através de divisões sucessivas de uma lista, onde cada elemento, associado, _por ordem_, a um dado índice, corresponde a um número, _cada um aparecendo apenas uma vez_. Este meio de procura tem com vista aumentar a velocidade com que se encontra o elemento pretendido, visto que a cada \"leitura\" é excludo um número superior de opções.  \n",
    "\n",
    "O oposto dá-se com uma forma de procura regular onde os membros da lista teriam de ser analisados _um por um_, dilatando o _tempo de procura_ e aumentando o _poder de computação_ necessário."
   ]
  },
  {
   "cell_type": "code",
   "execution_count": null,
   "id": "73313814-4f4e-4bde-bf39-48ad519cbc33",
   "metadata": {},
   "outputs": [],
   "source": []
  }
 ],
 "metadata": {
  "kernelspec": {
   "display_name": "Python 3",
   "language": "python",
   "name": "python3"
  },
  "language_info": {
   "codemirror_mode": {
    "name": "ipython",
    "version": 3
   },
   "file_extension": ".py",
   "mimetype": "text/x-python",
   "name": "python",
   "nbconvert_exporter": "python",
   "pygments_lexer": "ipython3",
   "version": "3.8.8"
  }
 },
 "nbformat": 4,
 "nbformat_minor": 5
}
