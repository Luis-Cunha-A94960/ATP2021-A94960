{
 "cells": [
  {
   "cell_type": "markdown",
   "id": "9ea9b5e2-37af-4db4-b57c-fd02c8acbb96",
   "metadata": {},
   "source": [
    "# __Polinómios__"
   ]
  },
  {
   "cell_type": "markdown",
   "id": "6441902f-668f-4016-8272-3e7b0fae217c",
   "metadata": {},
   "source": [
    "## __TPC 5__"
   ]
  },
  {
   "cell_type": "markdown",
   "id": "45d4e07b-2d14-4aa9-acba-b61e507b1351",
   "metadata": {},
   "source": [
    "___"
   ]
  },
  {
   "cell_type": "markdown",
   "id": "0739f453-438f-4c69-b38a-0b29212c6786",
   "metadata": {},
   "source": [
    "__Data de início:__ 2021/11/13"
   ]
  },
  {
   "cell_type": "markdown",
   "id": "2503bf74-8b2f-4838-aee0-cc44bba8b880",
   "metadata": {},
   "source": [
    "__Data de fim:__ 2021/11/13"
   ]
  },
  {
   "cell_type": "markdown",
   "id": "efbd8d18-3a72-42a9-b164-59d12057322f",
   "metadata": {},
   "source": [
    "__Supervisor:__ José Carlos Ramalho"
   ]
  },
  {
   "cell_type": "markdown",
   "id": "a7561376-5a06-44d9-9cf6-0877ffcd325f",
   "metadata": {},
   "source": [
    "__Autor:__ Luís Pedro Cunha, A94960"
   ]
  },
  {
   "cell_type": "markdown",
   "id": "3e22c073-0e25-4699-8b3e-1ba402b6b2ad",
   "metadata": {},
   "source": [
    "__Resumo:__ Este trabalho teve como principal objetivo a criação de duas funções para serem introduzidas no programa criado em aula capaz de construir e trabalhar com polinómios, assim como um menu para ser possível ao utilizador navegar o programa.\n",
    "\n",
    "A primeira destas funções (\"_SimpPoli(p)_\") consegue dado um polinómio _\"p\"_ simplificar o mesmo. Ou seja, se dois elementos existirem com o mesmo expoente o que vai acontecer é a soma dos seus coeficientes, mantendo o expoente.\n",
    "\n",
    "A segunda (\"_CalDerivPoli(p)_\") consegue dado um polinómio _\"p\"_ calcular a sua derivada."
   ]
  }
 ],
 "metadata": {
  "kernelspec": {
   "display_name": "Python 3",
   "language": "python",
   "name": "python3"
  },
  "language_info": {
   "codemirror_mode": {
    "name": "ipython",
    "version": 3
   },
   "file_extension": ".py",
   "mimetype": "text/x-python",
   "name": "python",
   "nbconvert_exporter": "python",
   "pygments_lexer": "ipython3",
   "version": "3.8.8"
  }
 },
 "nbformat": 4,
 "nbformat_minor": 5
}
