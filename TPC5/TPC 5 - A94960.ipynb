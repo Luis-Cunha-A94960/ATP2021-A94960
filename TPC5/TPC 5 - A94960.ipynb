{
 "cells": [
  {
   "cell_type": "code",
   "execution_count": null,
   "id": "372476be-3074-4533-8279-518041c616a8",
   "metadata": {},
   "outputs": [
    {
     "name": "stdout",
     "output_type": "stream",
     "text": [
      "MENU:\n",
      "    \n",
      "    (1) Criar polinómio;\n",
      "    (2) Calcular polinómio;\n",
      "    (3) Calcular tabela de valores;\n",
      "    (4) Simplificar polinómio;\n",
      "    (5) Calcular a derivada do polinómio;\n",
      "    \n",
      "    (0) Sair.\n"
     ]
    },
    {
     "name": "stdin",
     "output_type": "stream",
     "text": [
      "Qual é a sua opção: 1\n"
     ]
    },
    {
     "name": "stdout",
     "output_type": "stream",
     "text": [
      "Introduza o número de termos para o seu polinómio.\n"
     ]
    },
    {
     "name": "stdin",
     "output_type": "stream",
     "text": [
      "Número:  4\n"
     ]
    },
    {
     "name": "stdout",
     "output_type": "stream",
     "text": [
      "Introduza o termo.\n"
     ]
    },
    {
     "name": "stdin",
     "output_type": "stream",
     "text": [
      "Coeficiente:  3\n",
      "Expoente:  2\n"
     ]
    },
    {
     "name": "stdout",
     "output_type": "stream",
     "text": [
      "Introduza o termo.\n"
     ]
    },
    {
     "name": "stdin",
     "output_type": "stream",
     "text": [
      "Coeficiente:  2\n",
      "Expoente:  2\n"
     ]
    },
    {
     "name": "stdout",
     "output_type": "stream",
     "text": [
      "Introduza o termo.\n"
     ]
    },
    {
     "name": "stdin",
     "output_type": "stream",
     "text": [
      "Coeficiente:  5\n",
      "Expoente:  1\n"
     ]
    },
    {
     "name": "stdout",
     "output_type": "stream",
     "text": [
      "Introduza o termo.\n"
     ]
    },
    {
     "name": "stdin",
     "output_type": "stream",
     "text": [
      "Coeficiente:  8\n",
      "Expoente:  0\n"
     ]
    },
    {
     "name": "stdout",
     "output_type": "stream",
     "text": [
      "3x^2 + 2x^2 + 5x + 8\n",
      "MENU:\n",
      "    \n",
      "    (1) Criar polinómio;\n",
      "    (2) Calcular polinómio;\n",
      "    (3) Calcular tabela de valores;\n",
      "    (4) Simplificar polinómio;\n",
      "    (5) Calcular a derivada do polinómio;\n",
      "    \n",
      "    (0) Sair.\n"
     ]
    },
    {
     "name": "stdin",
     "output_type": "stream",
     "text": [
      "Qual é a sua opção: 2\n"
     ]
    },
    {
     "name": "stdout",
     "output_type": "stream",
     "text": [
      "Introduza o valor de X.\n"
     ]
    },
    {
     "name": "stdin",
     "output_type": "stream",
     "text": [
      "Valor de X:  2\n"
     ]
    },
    {
     "name": "stdout",
     "output_type": "stream",
     "text": [
      "Para X = 2, 3x^2 + 2x^2 + 5x + 8 = 38\n",
      "MENU:\n",
      "    \n",
      "    (1) Criar polinómio;\n",
      "    (2) Calcular polinómio;\n",
      "    (3) Calcular tabela de valores;\n",
      "    (4) Simplificar polinómio;\n",
      "    (5) Calcular a derivada do polinómio;\n",
      "    \n",
      "    (0) Sair.\n"
     ]
    },
    {
     "name": "stdin",
     "output_type": "stream",
     "text": [
      "Qual é a sua opção: 3\n"
     ]
    },
    {
     "name": "stdout",
     "output_type": "stream",
     "text": [
      "Introduza o número de elementos da tabela.\n"
     ]
    },
    {
     "name": "stdin",
     "output_type": "stream",
     "text": [
      "Número de elementos da tabela:  3\n"
     ]
    },
    {
     "name": "stdout",
     "output_type": "stream",
     "text": [
      "1 :: 18\n",
      "2 :: 38\n",
      "3 :: 68\n",
      "MENU:\n",
      "    \n",
      "    (1) Criar polinómio;\n",
      "    (2) Calcular polinómio;\n",
      "    (3) Calcular tabela de valores;\n",
      "    (4) Simplificar polinómio;\n",
      "    (5) Calcular a derivada do polinómio;\n",
      "    \n",
      "    (0) Sair.\n"
     ]
    },
    {
     "name": "stdin",
     "output_type": "stream",
     "text": [
      "Qual é a sua opção: 4\n"
     ]
    },
    {
     "name": "stdout",
     "output_type": "stream",
     "text": [
      "5x^2 + 5x + 8\n",
      "MENU:\n",
      "    \n",
      "    (1) Criar polinómio;\n",
      "    (2) Calcular polinómio;\n",
      "    (3) Calcular tabela de valores;\n",
      "    (4) Simplificar polinómio;\n",
      "    (5) Calcular a derivada do polinómio;\n",
      "    \n",
      "    (0) Sair.\n"
     ]
    },
    {
     "name": "stdin",
     "output_type": "stream",
     "text": [
      "Qual é a sua opção: 5\n"
     ]
    },
    {
     "name": "stdout",
     "output_type": "stream",
     "text": [
      "10x + 5\n",
      "MENU:\n",
      "    \n",
      "    (1) Criar polinómio;\n",
      "    (2) Calcular polinómio;\n",
      "    (3) Calcular tabela de valores;\n",
      "    (4) Simplificar polinómio;\n",
      "    (5) Calcular a derivada do polinómio;\n",
      "    \n",
      "    (0) Sair.\n"
     ]
    }
   ],
   "source": [
    "def menu():\n",
    "    print(\"\"\"MENU:\n",
    "    \n",
    "    (1) Criar polinómio;\n",
    "    (2) Calcular polinómio;\n",
    "    (3) Calcular tabela de valores;\n",
    "    (4) Simplificar polinómio;\n",
    "    (5) Calcular a derivada do polinómio;\n",
    "    \n",
    "    (0) Sair.\"\"\")\n",
    "\n",
    "def criarTermo(coef,exp):\n",
    "    return(coef,exp)\n",
    "\n",
    "def criarPoli():\n",
    "    return[]\n",
    "\n",
    "def inserirTermo(poli,termo):\n",
    "    poli.append(termo)\n",
    "    return(poli)\n",
    "\n",
    "def verTermo(t):\n",
    "    c,e = t\n",
    "    if (int(e)==0):\n",
    "        return str(c)\n",
    "    elif (int(e)==1):\n",
    "        return (str(c)+\"x\")\n",
    "    else:\n",
    "        return (str(c)+\"x^\"+str(e))\n",
    "\n",
    "def verPoli(p):\n",
    "    polif=\"\"\n",
    "    for t in (p):\n",
    "        if (p.index(t) == 0):\n",
    "            polif+=verTermo(p[0])\n",
    "        else:\n",
    "            polif+= (\" + \")+str(verTermo(t))\n",
    "    return(polif)\n",
    "\n",
    "def calcPoli(p,x):\n",
    "    val=0\n",
    "    for i in p:\n",
    "        c,e=i\n",
    "        val+=int(c)*(int(x)**int(e))\n",
    "    return val\n",
    "\n",
    "def calcPoliTab(p,xmax):\n",
    "    Tab=[]\n",
    "    for i in range (1,int(xmax)+1):\n",
    "        valor=(str(i)), str(calcPoli(p,i))\n",
    "        Tab.append(valor)\n",
    "    return Tab\n",
    "\n",
    "def verTab (Tab):\n",
    "    for i in Tab:\n",
    "        print(str(i[0])+\" :: \"+ str(i[1]))\n",
    "        \n",
    "def carac(p):\n",
    "    c,e=p\n",
    "    return e\n",
    "\n",
    "def OrdPoli(p):\n",
    "    p.sort(reverse=True, key=carac)\n",
    "    return p\n",
    "\n",
    "def SimpPoli(p):\n",
    "    PoliSimp=[p[0]]\n",
    "    for f in p:\n",
    "        c,e=f\n",
    "        if f==p[0]:\n",
    "            fm1=(c,e)\n",
    "        elif fm1[1]==e:\n",
    "            novo= (int(c)+int(fm1[0]),e)\n",
    "            PoliSimp.pop()\n",
    "            PoliSimp.append(novo)\n",
    "            fm1=(c,e)\n",
    "        else:\n",
    "            PoliSimp.append(f)\n",
    "            fm1=(c,e)\n",
    "    return PoliSimp\n",
    "\n",
    "def CalDerivPoli(p):\n",
    "    deriv=\"\"\n",
    "    for t in (p):\n",
    "        c,e = t\n",
    "        if (int(e)==0):\n",
    "            if (p.index(t) == 0):\n",
    "                pass\n",
    "        elif (int(e)==1):\n",
    "            if (p.index(t) == 0):\n",
    "                deriv+=str(c)\n",
    "            else:\n",
    "                deriv+= (\" + \")+str(c)\n",
    "        elif (int(e)==2):\n",
    "            if (p.index(t) == 0):\n",
    "                deriv+= str(int(e)*int(c))+\"x\"\n",
    "            else:\n",
    "                deriv+= (\" + \")+str(int(e)*int(c))+\"x\"\n",
    "        else:\n",
    "            if (p.index(t) == 0):\n",
    "                deriv+= str(int(e)*int(c))+\"x^\"+str(int(e)-1)\n",
    "            else:\n",
    "                deriv+= (\" + \")+str(int(e)*int(c))+\"x^\"+str(int(e)-1)\n",
    "    return(deriv)\n",
    " \n",
    "import re\n",
    "op=\"1\"\n",
    "oplist=[]\n",
    "a=\"\"\n",
    "b=\"\"\n",
    "poli=criarPoli()\n",
    "while (op!=\"0\"):\n",
    "    menu()\n",
    "    op=input(\"Qual é a sua opção:\")\n",
    "    oplist.append(op)\n",
    "    if (op==\"1\"):\n",
    "        n=\"\"\n",
    "        j=0\n",
    "        k=1\n",
    "        while (re.match(\"^[a-z]*$\", n) or n==\"\"):\n",
    "            if(j==1):\n",
    "                print(\"Número de elementos errado!\")\n",
    "            print (\"Introduza o número de termos para o seu polinómio.\")\n",
    "            n=input(\"Número: \")\n",
    "            j=1\n",
    "        while (k<=int(n)):\n",
    "            a=\"\"\n",
    "            b=\"\"\n",
    "            i=0\n",
    "            while (re.match(\"^[a-z]*$\", a) or re.match(\"^[a-z]*$\", b) or a==\"\" or b==\"\"):\n",
    "                if(i==1):\n",
    "                    print(\"Termo errado!\")\n",
    "                print (\"Introduza o termo.\")\n",
    "                a=input(\"Coeficiente: \")\n",
    "                b=input(\"Expoente: \")\n",
    "                i=1\n",
    "            poli.append(criarTermo(a,b))\n",
    "            k+=1\n",
    "        poli=OrdPoli(poli)\n",
    "        print(verPoli(poli))\n",
    "       \n",
    "    elif (op==\"2\" and len(poli)>0):\n",
    "        x=\"\"\n",
    "        i=0\n",
    "        while (re.match(\"^[a-z]*$\", x) or x==\"\"):\n",
    "            if(i==1):\n",
    "                print(\"Valor de X inválido!\")\n",
    "            print (\"Introduza o valor de X.\")\n",
    "            x=input(\"Valor de X: \")\n",
    "            i=1\n",
    "        res=calcPoli(poli,x)\n",
    "        print(\"Para X = \" + str(x) + \", \" + verPoli(poli) + \" = \" + str(res))\n",
    "        \n",
    "    elif (op==\"3\" and len(poli)>0):\n",
    "        num=\"\"\n",
    "        i=0\n",
    "        while (re.match(\"^[a-z]*$\", num) or num==\"\"):\n",
    "            if(i==1):\n",
    "                print(\"Número de elementos inválido!\")\n",
    "            print (\"Introduza o número de elementos da tabela.\")\n",
    "            num=input(\"Número de elementos da tabela: \")\n",
    "            i=1\n",
    "        tab=calcPoliTab(poli,num)\n",
    "        verTab(tab)\n",
    "        \n",
    "    elif (op==\"4\" and len(poli)>0):\n",
    "        poli=SimpPoli(poli)\n",
    "        print(verPoli(poli))\n",
    "        \n",
    "    elif (op==\"5\" and len(poli)>0):\n",
    "        deriv=CalDerivPoli(poli)\n",
    "        print(deriv)\n",
    "\n",
    "    elif (op==\"0\"):\n",
    "        print(\"Até à próxima!\")\n",
    "        \n",
    "    else: \n",
    "        print(\"Opção inválida!\")"
   ]
  },
  {
   "cell_type": "code",
   "execution_count": null,
   "id": "15597b3f-6db7-4986-85ba-3d1184bb95a4",
   "metadata": {},
   "outputs": [],
   "source": []
  }
 ],
 "metadata": {
  "kernelspec": {
   "display_name": "Python 3",
   "language": "python",
   "name": "python3"
  },
  "language_info": {
   "codemirror_mode": {
    "name": "ipython",
    "version": 3
   },
   "file_extension": ".py",
   "mimetype": "text/x-python",
   "name": "python",
   "nbconvert_exporter": "python",
   "pygments_lexer": "ipython3",
   "version": "3.8.8"
  }
 },
 "nbformat": 4,
 "nbformat_minor": 5
}
