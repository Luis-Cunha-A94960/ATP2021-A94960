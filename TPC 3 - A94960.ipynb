{
 "cells": [
  {
   "cell_type": "code",
   "execution_count": 8,
   "id": "be755330-a6e0-4c42-a9e4-93ff36df4446",
   "metadata": {},
   "outputs": [
    {
     "name": "stdout",
     "output_type": "stream",
     "text": [
      "Gestão de listas de inteiros\n",
      "              \n",
      "              (1) Introduza a lista à mão;\n",
      "              (2) Gerar uma lista com valores aleatórios;\n",
      "              (3) Máximo da lista;\n",
      "              (4) Organizar a lista;\n",
      "              (0) Sair.\n"
     ]
    },
    {
     "name": "stdin",
     "output_type": "stream",
     "text": [
      "Qual é a sua opção: 3\n"
     ]
    },
    {
     "name": "stdout",
     "output_type": "stream",
     "text": [
      "Crie uma lista primeiro antes de usar esta opção.\n",
      "Gestão de listas de inteiros\n",
      "              \n",
      "              (1) Introduza a lista à mão;\n",
      "              (2) Gerar uma lista com valores aleatórios;\n",
      "              (3) Máximo da lista;\n",
      "              (4) Organizar a lista;\n",
      "              (0) Sair.\n"
     ]
    },
    {
     "name": "stdin",
     "output_type": "stream",
     "text": [
      "Qual é a sua opção: 4\n"
     ]
    },
    {
     "name": "stdout",
     "output_type": "stream",
     "text": [
      "Crie uma lista primeiro antes de usar esta opção.\n",
      "Gestão de listas de inteiros\n",
      "              \n",
      "              (1) Introduza a lista à mão;\n",
      "              (2) Gerar uma lista com valores aleatórios;\n",
      "              (3) Máximo da lista;\n",
      "              (4) Organizar a lista;\n",
      "              (0) Sair.\n"
     ]
    },
    {
     "name": "stdin",
     "output_type": "stream",
     "text": [
      "Qual é a sua opção: 2\n",
      "Introduza o número de elementos da lista:  7\n"
     ]
    },
    {
     "name": "stdout",
     "output_type": "stream",
     "text": [
      "[38, 0, 52, 69, 73, 96, 27]\n",
      "Gestão de listas de inteiros\n",
      "              \n",
      "              (1) Introduza a lista à mão;\n",
      "              (2) Gerar uma lista com valores aleatórios;\n",
      "              (3) Máximo da lista;\n",
      "              (4) Organizar a lista;\n",
      "              (0) Sair.\n"
     ]
    },
    {
     "name": "stdin",
     "output_type": "stream",
     "text": [
      "Qual é a sua opção: 4\n"
     ]
    },
    {
     "name": "stdout",
     "output_type": "stream",
     "text": [
      "[0, 27, 38, 52, 69, 73, 96]\n",
      "Gestão de listas de inteiros\n",
      "              \n",
      "              (1) Introduza a lista à mão;\n",
      "              (2) Gerar uma lista com valores aleatórios;\n",
      "              (3) Máximo da lista;\n",
      "              (4) Organizar a lista;\n",
      "              (0) Sair.\n"
     ]
    },
    {
     "name": "stdin",
     "output_type": "stream",
     "text": [
      "Qual é a sua opção: 0\n"
     ]
    },
    {
     "name": "stdout",
     "output_type": "stream",
     "text": [
      "Até à próxima!\n"
     ]
    }
   ],
   "source": [
    "def menu ():\n",
    "    print (\"\"\"Gestão de listas de inteiros\n",
    "              \n",
    "              (1) Introduza a lista à mão;\n",
    "              (2) Gerar uma lista com valores aleatórios;\n",
    "              (3) Máximo da lista;\n",
    "              (4) Organizar a lista;\n",
    "              (0) Sair.\"\"\")\n",
    "\n",
    "def criarListaM():\n",
    "    n=int(input(\"Introduza o número de elementos da lista: \"))\n",
    "    L=[]\n",
    "    for i in range (n):\n",
    "        elem=int(input(\"Introduz o elemento\"+ str(i+1)+\":\"))\n",
    "        L.append(elem)\n",
    "    return L\n",
    "\n",
    "def criarListaA():\n",
    "    import random\n",
    "    n=int(input(\"Introduza o número de elementos da lista: \"))\n",
    "    L=[]\n",
    "    for i in range (n):\n",
    "        elem=random.randint (0,100)\n",
    "        L.append(elem)\n",
    "    return L\n",
    "\n",
    "def maiorElemento(lista):\n",
    "    maior=lista[0]\n",
    "    i=1\n",
    "    while (i<= len(lista)-1):\n",
    "        if lista[i]>maior:\n",
    "            maior=lista[i]\n",
    "        i=i+1\n",
    "    return maior\n",
    "\n",
    "def BubbleSort(lista):\n",
    "    trocas=1 #contador de trocas que o cíclo se vai basear para dar o término da função\n",
    "    while (trocas != 0):\n",
    "        i=0\n",
    "        while (i <= len(lista)-2):\n",
    "            if(lista[i]>lista[i+1]):\n",
    "                troca1=lista[i]\n",
    "                troca2=lista[i+1]\n",
    "                lista[i+1]=troca1\n",
    "                lista[i]=troca2\n",
    "                trocas+=1\n",
    "            i+=1\n",
    "        trocas-=1 #como trocas começa em 1 temos de retirar 1 no fim de cada cíclo para ter o valor real das trocas  que ocorreram\n",
    "    return lista\n",
    "\n",
    "op=\"1\"\n",
    "lista=[]\n",
    "while (op!=\"0\"):\n",
    "    menu()\n",
    "    op=input(\"Qual é a sua opção:\")\n",
    "    if ((op==\"3\" or op==\"4\") and len(lista)==0):\n",
    "        print(\"Crie uma lista primeiro, antes de usar esta opção.\")\n",
    "    elif (op==\"1\"):\n",
    "        lista=criarListaM()\n",
    "        print (lista)\n",
    "    elif (op==\"2\"):\n",
    "        lista=criarListaA()\n",
    "        print (lista)\n",
    "    elif (op==\"3\" and len(lista)!=0):\n",
    "        maior=maiorElemento(lista)\n",
    "        print (maior)\n",
    "    elif (op==\"4\" and len(lista)!=0):\n",
    "        lista_org = BubbleSort(lista)\n",
    "        print(lista_org)\n",
    "    elif (op==\"0\"):\n",
    "        print (\"Até à próxima!\")\n",
    "    else: \n",
    "        print (\"Opção inválida!\")\n"
   ]
  },
  {
   "cell_type": "code",
   "execution_count": null,
   "id": "b6e9b3d4-74c4-4452-950f-390029c5396a",
   "metadata": {},
   "outputs": [],
   "source": []
  }
 ],
 "metadata": {
  "kernelspec": {
   "display_name": "Python 3",
   "language": "python",
   "name": "python3"
  },
  "language_info": {
   "codemirror_mode": {
    "name": "ipython",
    "version": 3
   },
   "file_extension": ".py",
   "mimetype": "text/x-python",
   "name": "python",
   "nbconvert_exporter": "python",
   "pygments_lexer": "ipython3",
   "version": "3.8.8"
  }
 },
 "nbformat": 4,
 "nbformat_minor": 5
}
