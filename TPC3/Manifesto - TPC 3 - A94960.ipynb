{
 "cells": [
  {
   "cell_type": "markdown",
   "id": "9ea9b5e2-37af-4db4-b57c-fd02c8acbb96",
   "metadata": {},
   "source": [
    "# __Bubble Sort__"
   ]
  },
  {
   "cell_type": "markdown",
   "id": "6441902f-668f-4016-8272-3e7b0fae217c",
   "metadata": {},
   "source": [
    "## __TPC 3__"
   ]
  },
  {
   "cell_type": "markdown",
   "id": "45d4e07b-2d14-4aa9-acba-b61e507b1351",
   "metadata": {},
   "source": [
    "___"
   ]
  },
  {
   "cell_type": "markdown",
   "id": "0739f453-438f-4c69-b38a-0b29212c6786",
   "metadata": {},
   "source": [
    "__Data de início:__ 2021/10/23"
   ]
  },
  {
   "cell_type": "markdown",
   "id": "2503bf74-8b2f-4838-aee0-cc44bba8b880",
   "metadata": {},
   "source": [
    "__Data de fim:__ 2021/10/24"
   ]
  },
  {
   "cell_type": "markdown",
   "id": "efbd8d18-3a72-42a9-b164-59d12057322f",
   "metadata": {},
   "source": [
    "__Supervisor:__ José Carlos Ramalho"
   ]
  },
  {
   "cell_type": "markdown",
   "id": "a7561376-5a06-44d9-9cf6-0877ffcd325f",
   "metadata": {},
   "source": [
    "__Autor:__ Luís Pedro Cunha, A94960"
   ]
  },
  {
   "cell_type": "markdown",
   "id": "3e22c073-0e25-4699-8b3e-1ba402b6b2ad",
   "metadata": {},
   "source": [
    "__Resumo:__ O principal objetivo deste trabalho foi a criação de uma função _\"Bubble Sort\"_ para adicionar a um programa de _criação, manual ou aleatória, análise e modificação de listas numéricas_, utilizando como linguagem de programação o _Python_.\n",
    "\n",
    "O objetivo da função _\"Bubble Sort\"_ é a de organizar uma lista numérica, sendo que o número com menor valor fica na posição inicial (index=0) e o com maior valor na última posição (index=len(lista)-1), estando os restantes organizados por norma entre estes dois. Para atingir este objetivo a função corre toda a lista comparando os valores de índice adjacente (0 com 1, 1 com 2, 2 com 3, etc.), se o valor do seguinte é menor procede-se a uma troca, se não mantém-se igual. A função vai percorrer a lista as vezes necessárias até esta se encontrar organizada. Por fim esta fecha devolvendo a lista organizada.\n"
   ]
  }
 ],
 "metadata": {
  "kernelspec": {
   "display_name": "Python 3",
   "language": "python",
   "name": "python3"
  },
  "language_info": {
   "codemirror_mode": {
    "name": "ipython",
    "version": 3
   },
   "file_extension": ".py",
   "mimetype": "text/x-python",
   "name": "python",
   "nbconvert_exporter": "python",
   "pygments_lexer": "ipython3",
   "version": "3.8.8"
  }
 },
 "nbformat": 4,
 "nbformat_minor": 5
}
