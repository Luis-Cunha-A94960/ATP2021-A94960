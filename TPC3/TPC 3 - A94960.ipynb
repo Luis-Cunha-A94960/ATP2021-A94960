{
 "cells": [
  {
   "cell_type": "code",
   "execution_count": 1,
   "id": "be755330-a6e0-4c42-a9e4-93ff36df4446",
   "metadata": {},
   "outputs": [
    {
     "name": "stdout",
     "output_type": "stream",
     "text": [
      "Gestão de listas de inteiros\n",
      "              \n",
      "              (1) Introduza a lista à mão;\n",
      "              (2) Gerar uma lista com valores aleatórios;\n",
      "              (3) Máximo da lista;\n",
      "              (4) Organizar a lista;\n",
      "              (0) Sair.\n"
     ]
    },
    {
     "ename": "KeyboardInterrupt",
     "evalue": "Interrupted by user",
     "output_type": "error",
     "traceback": [
      "\u001b[1;31m---------------------------------------------------------------------------\u001b[0m",
      "\u001b[1;31mKeyboardInterrupt\u001b[0m                         Traceback (most recent call last)",
      "\u001b[1;32m<ipython-input-1-0b83c82feeda>\u001b[0m in \u001b[0;36m<module>\u001b[1;34m\u001b[0m\n\u001b[0;32m     53\u001b[0m \u001b[1;32mwhile\u001b[0m \u001b[1;33m(\u001b[0m\u001b[0mop\u001b[0m\u001b[1;33m!=\u001b[0m\u001b[1;34m\"0\"\u001b[0m\u001b[1;33m)\u001b[0m\u001b[1;33m:\u001b[0m\u001b[1;33m\u001b[0m\u001b[1;33m\u001b[0m\u001b[0m\n\u001b[0;32m     54\u001b[0m     \u001b[0mmenu\u001b[0m\u001b[1;33m(\u001b[0m\u001b[1;33m)\u001b[0m\u001b[1;33m\u001b[0m\u001b[1;33m\u001b[0m\u001b[0m\n\u001b[1;32m---> 55\u001b[1;33m     \u001b[0mop\u001b[0m\u001b[1;33m=\u001b[0m\u001b[0minput\u001b[0m\u001b[1;33m(\u001b[0m\u001b[1;34m\"Qual é a sua opção:\"\u001b[0m\u001b[1;33m)\u001b[0m\u001b[1;33m\u001b[0m\u001b[1;33m\u001b[0m\u001b[0m\n\u001b[0m\u001b[0;32m     56\u001b[0m     \u001b[1;32mif\u001b[0m \u001b[1;33m(\u001b[0m\u001b[1;33m(\u001b[0m\u001b[0mop\u001b[0m\u001b[1;33m==\u001b[0m\u001b[1;34m\"3\"\u001b[0m \u001b[1;32mor\u001b[0m \u001b[0mop\u001b[0m\u001b[1;33m==\u001b[0m\u001b[1;34m\"4\"\u001b[0m\u001b[1;33m)\u001b[0m \u001b[1;32mand\u001b[0m \u001b[0mlen\u001b[0m\u001b[1;33m(\u001b[0m\u001b[0mlista\u001b[0m\u001b[1;33m)\u001b[0m\u001b[1;33m==\u001b[0m\u001b[1;36m0\u001b[0m\u001b[1;33m)\u001b[0m\u001b[1;33m:\u001b[0m\u001b[1;33m\u001b[0m\u001b[1;33m\u001b[0m\u001b[0m\n\u001b[0;32m     57\u001b[0m         \u001b[0mprint\u001b[0m\u001b[1;33m(\u001b[0m\u001b[1;34m\"Crie uma lista primeiro, antes de usar esta opção.\"\u001b[0m\u001b[1;33m)\u001b[0m\u001b[1;33m\u001b[0m\u001b[1;33m\u001b[0m\u001b[0m\n",
      "\u001b[1;32m~\\Anaconda3\\lib\\site-packages\\ipykernel\\kernelbase.py\u001b[0m in \u001b[0;36mraw_input\u001b[1;34m(self, prompt)\u001b[0m\n\u001b[0;32m    858\u001b[0m                 \u001b[1;34m\"raw_input was called, but this frontend does not support input requests.\"\u001b[0m\u001b[1;33m\u001b[0m\u001b[1;33m\u001b[0m\u001b[0m\n\u001b[0;32m    859\u001b[0m             )\n\u001b[1;32m--> 860\u001b[1;33m         return self._input_request(str(prompt),\n\u001b[0m\u001b[0;32m    861\u001b[0m             \u001b[0mself\u001b[0m\u001b[1;33m.\u001b[0m\u001b[0m_parent_ident\u001b[0m\u001b[1;33m,\u001b[0m\u001b[1;33m\u001b[0m\u001b[1;33m\u001b[0m\u001b[0m\n\u001b[0;32m    862\u001b[0m             \u001b[0mself\u001b[0m\u001b[1;33m.\u001b[0m\u001b[0m_parent_header\u001b[0m\u001b[1;33m,\u001b[0m\u001b[1;33m\u001b[0m\u001b[1;33m\u001b[0m\u001b[0m\n",
      "\u001b[1;32m~\\Anaconda3\\lib\\site-packages\\ipykernel\\kernelbase.py\u001b[0m in \u001b[0;36m_input_request\u001b[1;34m(self, prompt, ident, parent, password)\u001b[0m\n\u001b[0;32m    902\u001b[0m             \u001b[1;32mexcept\u001b[0m \u001b[0mKeyboardInterrupt\u001b[0m\u001b[1;33m:\u001b[0m\u001b[1;33m\u001b[0m\u001b[1;33m\u001b[0m\u001b[0m\n\u001b[0;32m    903\u001b[0m                 \u001b[1;31m# re-raise KeyboardInterrupt, to truncate traceback\u001b[0m\u001b[1;33m\u001b[0m\u001b[1;33m\u001b[0m\u001b[1;33m\u001b[0m\u001b[0m\n\u001b[1;32m--> 904\u001b[1;33m                 \u001b[1;32mraise\u001b[0m \u001b[0mKeyboardInterrupt\u001b[0m\u001b[1;33m(\u001b[0m\u001b[1;34m\"Interrupted by user\"\u001b[0m\u001b[1;33m)\u001b[0m \u001b[1;32mfrom\u001b[0m \u001b[1;32mNone\u001b[0m\u001b[1;33m\u001b[0m\u001b[1;33m\u001b[0m\u001b[0m\n\u001b[0m\u001b[0;32m    905\u001b[0m             \u001b[1;32mexcept\u001b[0m \u001b[0mException\u001b[0m \u001b[1;32mas\u001b[0m \u001b[0me\u001b[0m\u001b[1;33m:\u001b[0m\u001b[1;33m\u001b[0m\u001b[1;33m\u001b[0m\u001b[0m\n\u001b[0;32m    906\u001b[0m                 \u001b[0mself\u001b[0m\u001b[1;33m.\u001b[0m\u001b[0mlog\u001b[0m\u001b[1;33m.\u001b[0m\u001b[0mwarning\u001b[0m\u001b[1;33m(\u001b[0m\u001b[1;34m\"Invalid Message:\"\u001b[0m\u001b[1;33m,\u001b[0m \u001b[0mexc_info\u001b[0m\u001b[1;33m=\u001b[0m\u001b[1;32mTrue\u001b[0m\u001b[1;33m)\u001b[0m\u001b[1;33m\u001b[0m\u001b[1;33m\u001b[0m\u001b[0m\n",
      "\u001b[1;31mKeyboardInterrupt\u001b[0m: Interrupted by user"
     ]
    }
   ],
   "source": [
    "def menu ():\n",
    "    print (\"\"\"Gestão de listas de inteiros\n",
    "              \n",
    "              (1) Introduza a lista à mão;\n",
    "              (2) Gerar uma lista com valores aleatórios;\n",
    "              (3) Máximo da lista;\n",
    "              (4) Organizar a lista;\n",
    "              (0) Sair.\"\"\")\n",
    "\n",
    "def criarListaM():\n",
    "    n=int(input(\"Introduza o número de elementos da lista: \"))\n",
    "    L=[]\n",
    "    for i in range (n):\n",
    "        elem=int(input(\"Introduz o elemento\"+ str(i+1)+\":\"))\n",
    "        L.append(elem)\n",
    "    return L\n",
    "\n",
    "def criarListaA():\n",
    "    import random\n",
    "    n=int(input(\"Introduza o número de elementos da lista: \"))\n",
    "    L=[]\n",
    "    for i in range (n):\n",
    "        elem=random.randint (0,100)\n",
    "        L.append(elem)\n",
    "    return L\n",
    "\n",
    "def maiorElemento(lista):\n",
    "    maior=lista[0]\n",
    "    i=1\n",
    "    while (i<= len(lista)-1):\n",
    "        if lista[i]>maior:\n",
    "            maior=lista[i]\n",
    "        i=i+1\n",
    "    return maior\n",
    "\n",
    "def BubbleSort(lista):\n",
    "    trocas=1 #contador de trocas que o cíclo se vai basear para dar o término da função\n",
    "    while (trocas != 0):\n",
    "        i=0\n",
    "        while (i <= len(lista)-2):\n",
    "            if(lista[i]>lista[i+1]):\n",
    "                troca1=lista[i]\n",
    "                troca2=lista[i+1]\n",
    "                lista[i+1]=troca1\n",
    "                lista[i]=troca2\n",
    "                trocas+=1\n",
    "            i+=1\n",
    "        trocas-=1 #como trocas começa em 1 temos de retirar 1 no fim de cada cíclo para ter o valor real das trocas  que ocorreram\n",
    "    return lista\n",
    "\n",
    "op=\"1\"\n",
    "lista=[]\n",
    "while (op!=\"0\"):\n",
    "    menu()\n",
    "    op=input(\"Qual é a sua opção:\")\n",
    "    if ((op==\"3\" or op==\"4\") and len(lista)==0):\n",
    "        print(\"Crie uma lista primeiro, antes de usar esta opção.\")\n",
    "    elif (op==\"1\"):\n",
    "        lista=criarListaM()\n",
    "        print (lista)\n",
    "    elif (op==\"2\"):\n",
    "        lista=criarListaA()\n",
    "        print (lista)\n",
    "    elif (op==\"3\" and len(lista)!=0):\n",
    "        maior=maiorElemento(lista)\n",
    "        print (maior)\n",
    "    elif (op==\"4\" and len(lista)!=0):\n",
    "        lista_org = BubbleSort(lista)\n",
    "        print(lista_org)\n",
    "    elif (op==\"0\"):\n",
    "        print (\"Até à próxima!\")\n",
    "    else: \n",
    "        print (\"Opção inválida!\")\n"
   ]
  },
  {
   "cell_type": "code",
   "execution_count": null,
   "id": "b6e9b3d4-74c4-4452-950f-390029c5396a",
   "metadata": {},
   "outputs": [],
   "source": []
  }
 ],
 "metadata": {
  "kernelspec": {
   "display_name": "Python 3",
   "language": "python",
   "name": "python3"
  },
  "language_info": {
   "codemirror_mode": {
    "name": "ipython",
    "version": 3
   },
   "file_extension": ".py",
   "mimetype": "text/x-python",
   "name": "python",
   "nbconvert_exporter": "python",
   "pygments_lexer": "ipython3",
   "version": "3.8.8"
  }
 },
 "nbformat": 4,
 "nbformat_minor": 5
}
