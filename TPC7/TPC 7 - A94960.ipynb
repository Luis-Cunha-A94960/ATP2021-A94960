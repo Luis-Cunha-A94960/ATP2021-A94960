{
 "cells": [
  {
   "cell_type": "code",
   "execution_count": 1,
   "metadata": {},
   "outputs": [
    {
     "name": "stdout",
     "output_type": "stream",
     "text": [
      "Os 10 alunos com as médias mais altas foram:\n",
      "0. a47-\"MoisÃ©s JoÃ£o Cornelio\"| \"LEI\"|18.0\n",
      "1. a80-\"Maria Carolina JosuÃ©\"| \"ENGFIS\"|18.0\n",
      "2. a32-\"Ariane Sofia Foja\"| \"LEI\"|17.5\n",
      "3. a74-\"VÃ¢nia Sofia Porfirio\"| \"ENGBIOM\"|17.5\n",
      "4. a56-\"Hakeem BrazÃ£o\"| \"LEI\"|17.25\n",
      "5. a84-\"LaudÃ¡rio FrasÃ£o\"| \"LCC\"|17.0\n",
      "6. a13-\"Daniela PatrÃ­cia Montes\"| \"ENGBIOM\"|16.75\n",
      "7. a41-\"Lachezar Rosas\"| \"ENGBIOM\"|16.75\n",
      "8. a45-\"Imayame Hespanha\"| \"ENGFIS\"|16.75\n",
      "9. a2-\"Igor AndrÃ© Cantanhede\"| \"ENGFIS\"|16.5\n",
      "{'\"LEI\"': 23, '\"ENGFIS\"': 32, '\"ENGBIOM\"': 25, '\"LCC\"': 20}\n",
      "9 : 1\n",
      "10 : 1\n",
      "11 : 9\n",
      "12 : 15\n",
      "13 : 20\n",
      "14 : 21\n",
      "15 : 15\n",
      "16 : 11\n",
      "17 : 4\n"
     ]
    },
    {
     "data": {
      "image/png": "[encoded data removed]",
      "text/plain": [
       "<Figure size 432x288 with 1 Axes>"
      ]
     },
     "metadata": {
      "needs_background": "light"
     },
     "output_type": "display_data"
    },
    {
     "data": {
      "image/png": "[encoded data removed]",
      "text/plain": [
       "<Figure size 432x288 with 1 Axes>"
      ]
     },
     "metadata": {
      "needs_background": "light"
     },
     "output_type": "display_data"
    }
   ],
   "source": [
    "# Exercício 1: leitura do ficheiro - feita na aula prática 7\n",
    "def lerDataset(fnome):\n",
    "    bd = []\n",
    "    f = open( fnome, encoding='utf-8')\n",
    "    f.readline()\n",
    "    for linha in f:\n",
    "        novaLinha = linha.replace(\"\\n\",\"\")\n",
    "        campos = novaLinha.split(\",\")\n",
    "        aluno = {}\n",
    "        aluno['id'] = campos[0]\n",
    "        aluno['nome'] = campos[1]\n",
    "        aluno['curso'] = campos[2]\n",
    "        listaTPC = []\n",
    "        for tpc in campos[3:]:\n",
    "            listaTPC.append(int(tpc))\n",
    "        aluno['tpc'] = listaTPC\n",
    "        bd.append(aluno)\n",
    "    return bd\n",
    "\n",
    "\n",
    "BDalunos=lerDataset (\"alunos.txt\")\n",
    "#print (BDalunos)\n",
    "\n",
    "\n",
    "#Exercício 2: listagem no monitor- feita na aula prática 7\n",
    "\n",
    "def listarDataset(bd):\n",
    "    print(\" id | nome | curso | média\")\n",
    "    print(\"-------------------------\")\n",
    "    for a in bd:\n",
    "        print(a[\"id\"]+ \"|\" +a[\"nome\"]+ \"|\" +a[\"curso\"]+ \"|\" +str(sum(a[\"tpc\"])/len(a[\"tpc\"])))\n",
    "\n",
    "#listarDataset(BDalunos)\n",
    "        \n",
    "#Exercício 3: Dado o id do aluno coloca a sua informação no monitor.\n",
    "def ConsultarDataset(bd,numero):\n",
    "    c=0\n",
    "    for l in bd:\n",
    "        if l[\"id\"]==numero:\n",
    "            print(l[\"id\"]+ \"|\" +l[\"nome\"]+ \"|\" +l[\"curso\"]+ \"|\" +str(sum(l[\"tpc\"])/len(l[\"tpc\"])))\n",
    "            c=1\n",
    "    if c==0:\n",
    "        print (\"O registo não se encontra na base de dados.\")\n",
    "            \n",
    "\n",
    "#Exercício 4: Top 10 médias mais altas: dá como resultado uma lista com os alunos com as 10 médias mais altas.\n",
    "def chaveordenacao(l):\n",
    "    return (sum(l[\"tpc\"])/len(l[\"tpc\"]))\n",
    "\n",
    "def top10 (bd):\n",
    "    bd.sort (key=chaveordenacao, reverse=True)\n",
    "    print (\"Os 10 alunos com as médias mais altas foram:\")\n",
    "    for i in range (10):\n",
    "        print (str(i)+\".\", bd[i][\"id\"]+\"-\"+bd[i][\"nome\"]+\"|\", bd[i][\"curso\"] + \"|\" + str(sum(bd[i][\"tpc\"])/4))\n",
    "top10(BDalunos)\n",
    "\n",
    "#Exercício 5: Distribuição por Curso: dá como resultado uma lista de pares indicando quantos alunos há em cada curso- feita na aula prática 7\n",
    "def distribPorCurso(bd):\n",
    "    distribuicao = {}\n",
    "    for a in bd:\n",
    "        if a['curso'] in distribuicao.keys():\n",
    "            distribuicao[a['curso']] = distribuicao[a['curso']] +1\n",
    "        else:\n",
    "            distribuicao[a['curso']] = 1\n",
    "    return distribuicao\n",
    "minhadistrib=distribPorCurso(BDalunos)\n",
    "print (minhadistrib)\n",
    "\n",
    "#Exercício 6: Distribuição por médias: dá como resultado uma lista de pares, média e nº de alunos com determinada média ( número inteiro) \n",
    "def distribPorMedias(bd):\n",
    "    alunos=[]\n",
    "    medias=[]\n",
    "    l=[]\n",
    "    for i in range (len(bd)-1):\n",
    "        medias.append(int(sum(bd[i][\"tpc\"])/4))\n",
    "    for r in range (20):\n",
    "        if medias.count(r) > 0:\n",
    "            alunos.append(str(r) + \" : \" + str(medias.count(r)))\n",
    "    return alunos\n",
    "\n",
    "al=distribPorMedias(BDalunos)\n",
    "for i in range (len(al)-1):\n",
    "    print(al[i]) \n",
    "    \n",
    "\n",
    "#Exercício 7: Gráfico da distribuição por curso (através da função do exercício 5)\n",
    "import matplotlib.pyplot as plt\n",
    "def plotDistribPorCurso(bd):\n",
    "    fig = plt.figure()\n",
    "    ax = fig.add_axes([0,0,1,1])\n",
    "    x=[]\n",
    "    y=[]\n",
    "    for i in bd:\n",
    "        x.append(i)\n",
    "        y.append (bd[i]) #numero de alunos do curso\n",
    "    ax.bar(x,y)\n",
    "    plt.show()\n",
    "\n",
    "plotDistribPorCurso(distribPorCurso(BDalunos))\n",
    "\n",
    "\n",
    "#Exercício 8: Gráfico da distribuição por médias (através da função do exercício 6)\n",
    "\n",
    "def plotDistribPorMedias(bd):\n",
    "    fig = plt.figure()\n",
    "    ax = fig.add_axes([0,0,1,1])\n",
    "    x=[]\n",
    "    y=[]\n",
    "    yx=[]\n",
    "    for i in bd:\n",
    "        alunos=i.split(\" : \")\n",
    "        yx.append([int(alunos[1]), alunos[0]])\n",
    "    yx.sort()\n",
    "    for r in range (len(yx)-1):\n",
    "        y.append(yx[r][0])\n",
    "        x.append(yx[r][1])\n",
    "    ax.bar(x,y)\n",
    "    plt.show()\n",
    "    \n",
    "plotDistribPorMedias(distribPorMedias(BDalunos))"
   ]
  },
  {
   "cell_type": "code",
   "execution_count": null,
   "metadata": {},
   "outputs": [],
   "source": []
  }
 ],
 "metadata": {
  "interpreter": {
   "hash": "aee8b7b246df8f9039afb4144a1f6fd8d2ca17a180786b69acc140d282b71a49"
  },
  "kernelspec": {
   "display_name": "Python 3",
   "language": "python",
   "name": "python3"
  },
  "language_info": {
   "codemirror_mode": {
    "name": "ipython",
    "version": 3
   },
   "file_extension": ".py",
   "mimetype": "text/x-python",
   "name": "python",
   "nbconvert_exporter": "python",
   "pygments_lexer": "ipython3",
   "version": "3.8.8"
  }
 },
 "nbformat": 4,
 "nbformat_minor": 4
}
