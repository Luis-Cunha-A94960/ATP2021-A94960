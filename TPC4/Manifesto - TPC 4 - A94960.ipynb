{
 "cells": [
  {
   "cell_type": "markdown",
   "id": "9ea9b5e2-37af-4db4-b57c-fd02c8acbb96",
   "metadata": {},
   "source": [
    "# __Operações com frações__"
   ]
  },
  {
   "cell_type": "markdown",
   "id": "6441902f-668f-4016-8272-3e7b0fae217c",
   "metadata": {},
   "source": [
    "## __TPC 4__"
   ]
  },
  {
   "cell_type": "markdown",
   "id": "45d4e07b-2d14-4aa9-acba-b61e507b1351",
   "metadata": {},
   "source": [
    "___"
   ]
  },
  {
   "cell_type": "markdown",
   "id": "0739f453-438f-4c69-b38a-0b29212c6786",
   "metadata": {},
   "source": [
    "__Data de início:__ 2021/10/31"
   ]
  },
  {
   "cell_type": "markdown",
   "id": "2503bf74-8b2f-4838-aee0-cc44bba8b880",
   "metadata": {},
   "source": [
    "__Data de fim:__ 2021/10/31"
   ]
  },
  {
   "cell_type": "markdown",
   "id": "efbd8d18-3a72-42a9-b164-59d12057322f",
   "metadata": {},
   "source": [
    "__Supervisor:__ José Carlos Ramalho"
   ]
  },
  {
   "cell_type": "markdown",
   "id": "a7561376-5a06-44d9-9cf6-0877ffcd325f",
   "metadata": {},
   "source": [
    "__Autor:__ Luís Pedro Cunha, A94960"
   ]
  },
  {
   "cell_type": "markdown",
   "id": "3e22c073-0e25-4699-8b3e-1ba402b6b2ad",
   "metadata": {},
   "source": [
    "__Resumo:__ Este trabalho teve como objetivo principal a criação de três funções para serem introduzidas no programa criado em aula capaz de construir e realizar operações com frações. Estas três funções foram: _sub_fracao_, _mult_fracao_ e _div_fracao_.\n",
    "\n",
    "_“sub_fracao”_ consegue realizar a _subtração duas frações_, igualando os seus denominadores e realizando a subtração dos numeradores.\n",
    "\n",
    "_“mult_fracao”_ visa a _multiplicação de duas frações_, onde o novo numerador é o produto dos numeradores das dadas frações e o denominador o produto dos seus respetivos denominadores.\n",
    "\n",
    "Por fim, _“div_fracao”_ é capaz de _calcular o quociente da divisão entre as frações dadas_. Para tal faz-de uso de uma norma muito conhecida na matemática, onde o numerador do quociente será o produto do numerador da primeira fração com o denominador da segunda e o seu denominador o produto do denominador da primeira com o numerador da segunda.\n"
   ]
  }
 ],
 "metadata": {
  "kernelspec": {
   "display_name": "Python 3",
   "language": "python",
   "name": "python3"
  },
  "language_info": {
   "codemirror_mode": {
    "name": "ipython",
    "version": 3
   },
   "file_extension": ".py",
   "mimetype": "text/x-python",
   "name": "python",
   "nbconvert_exporter": "python",
   "pygments_lexer": "ipython3",
   "version": "3.8.8"
  }
 },
 "nbformat": 4,
 "nbformat_minor": 5
}
